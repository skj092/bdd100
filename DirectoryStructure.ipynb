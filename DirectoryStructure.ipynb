{
  "nbformat": 4,
  "nbformat_minor": 0,
  "metadata": {
    "colab": {
      "provenance": []
    },
    "kernelspec": {
      "name": "python3",
      "display_name": "Python 3"
    },
    "language_info": {
      "name": "python"
    },
    "accelerator": "GPU",
    "gpuClass": "standard"
  },
  "cells": [
    {
      "cell_type": "code",
      "source": [
        "from google.colab import drive\n",
        "drive.mount('/content/drive')"
      ],
      "metadata": {
        "id": "ytx8CfRZPwfS"
      },
      "execution_count": null,
      "outputs": []
    },
    {
      "cell_type": "code",
      "execution_count": 2,
      "metadata": {
        "id": "DqjCDumPGpnZ"
      },
      "outputs": [],
      "source": [
        "import os \n",
        "os.chdir(\"/content/drive/MyDrive/Projects/BDD10K\")"
      ]
    },
    {
      "cell_type": "code",
      "source": [
        "from glob import glob\n",
        "all_data_img = glob(\"/content/drive/MyDrive/Projects/BDD10K/alldata/*.jpg\")\n",
        "len(all_data_img)"
      ],
      "metadata": {
        "colab": {
          "base_uri": "https://localhost:8080/"
        },
        "id": "jqeoqN2RUiaa",
        "outputId": "d22c1bb1-9de7-4361-f4b4-20df294eadb8"
      },
      "execution_count": 3,
      "outputs": [
        {
          "output_type": "execute_result",
          "data": {
            "text/plain": [
              "0"
            ]
          },
          "metadata": {},
          "execution_count": 3
        }
      ]
    },
    {
      "cell_type": "code",
      "source": [
        "all_txt_file = glob('/content/drive/MyDrive/Projects/BDD10K/alldata/*.txt')\n",
        "len(all_txt_file)"
      ],
      "metadata": {
        "id": "FsCzvTpNUp-p"
      },
      "execution_count": null,
      "outputs": []
    },
    {
      "cell_type": "code",
      "source": [
        "# This script will delete all the labels from the yolo labels except car \n",
        "\n",
        "import os\n",
        "import glob\n",
        "import shutil\n",
        "from tqdm import tqdm \n",
        "\n",
        "# Path to the folder containing the yolo labels\n",
        "path = 'alldata'\n",
        "\n",
        "# Path to the folder where you want to save the modified labels\n",
        "save_path = 'alldata'\n",
        "\n",
        "# label code for car\n",
        "car = 0\n",
        "\n",
        "for filename in tqdm(os.listdir(path)):\n",
        "    # continue if the file is classes.txt\n",
        "    if filename == 'classes.txt':\n",
        "        continue\n",
        "    if filename.endswith(\".txt\"):\n",
        "        with open(os.path.join(path, filename), 'r') as f:\n",
        "            lines = f.readlines()\n",
        "            f.close()\n",
        "        with open(os.path.join(save_path, filename), 'w') as f:\n",
        "            for line in lines:\n",
        "                if int(line.split(' ')[0]) == car:\n",
        "                    f.write(line)\n",
        "            f.close()"
      ],
      "metadata": {
        "colab": {
          "base_uri": "https://localhost:8080/"
        },
        "id": "YS2TB44YLk50",
        "outputId": "75990db4-d76a-4ae9-d69f-0db94e5b721a"
      },
      "execution_count": null,
      "outputs": [
        {
          "output_type": "stream",
          "name": "stderr",
          "text": [
            "100%|██████████| 20000/20000 [00:59<00:00, 337.52it/s]\n"
          ]
        }
      ]
    },
    {
      "cell_type": "code",
      "source": [
        "# This script will split the data into training and validation sets\n",
        "\n",
        "import os\n",
        "import random\n",
        "import shutil\n",
        "from glob import glob\n",
        "from tqdm import tqdm\n",
        "\n",
        "# creating folder for training and validation\n",
        "if not os.path.exists('train'):\n",
        "    os.makedirs('train')\n",
        "if not os.path.exists('valid'):\n",
        "    os.makedirs('valid')\n",
        "\n",
        "# creading folder for images and labels\n",
        "if not os.path.exists('train/images'):\n",
        "    os.makedirs('train/images')\n",
        "if not os.path.exists('train/labels'):\n",
        "    os.makedirs('train/labels')\n",
        "\n",
        "# Creating partitions of the data after shuffeling\n",
        "# Get the list of all images\n",
        "image_path_list = glob('alldata/*.jpg')\n",
        "label_path_list = glob('alldata/*.txt')\n",
        "\n",
        "print('number of images: ', len(image_path_list))\n",
        "print('number of labels: ', len(label_path_list))\n",
        "\n",
        "# Shuffle the images\n",
        "random.shuffle(image_path_list)\n",
        "random.shuffle(label_path_list)\n",
        "\n",
        "# Calculate the split size\n",
        "train_size = int(0.9 * len(image_path_list))\n",
        "valid_size = int(0.1 * len(image_path_list))\n",
        "\n",
        "# Copy-pasting images\n",
        "train_image_list = image_path_list[:train_size]\n",
        "valid_image_list = image_path_list[train_size:train_size+valid_size]\n",
        "\n",
        "train_label_list = label_path_list[:train_size]\n",
        "valid_label_list = label_path_list[train_size:train_size+valid_size]\n",
        "\n",
        "# Train\n",
        "for image_path in tqdm(train_image_list):\n",
        "    shutil.copy(image_path, 'train/images')\n",
        "\n",
        "for label_path in tqdm(train_label_list):\n",
        "    shutil.copy(label_path, 'train/labels')\n",
        "\n",
        "# Validation\n",
        "for image_path in tqdm(valid_image_list):\n",
        "    shutil.copy(image_path, 'valid/images')\n",
        "    \n",
        "for image_path in tqdm(valid_image_list):\n",
        "    shutil.copy(image_path, 'valid/labels')"
      ],
      "metadata": {
        "colab": {
          "base_uri": "https://localhost:8080/"
        },
        "id": "2hhOeGe8L5PQ",
        "outputId": "ab9b308e-1a2f-448b-b471-4aa9ddbaf5dd"
      },
      "execution_count": null,
      "outputs": [
        {
          "output_type": "stream",
          "name": "stdout",
          "text": [
            "number of images:  10000\n",
            "number of labels:  10000\n"
          ]
        },
        {
          "output_type": "stream",
          "name": "stderr",
          "text": [
            "100%|██████████| 9000/9000 [01:25<00:00, 105.55it/s]\n",
            "100%|██████████| 9000/9000 [01:11<00:00, 125.99it/s]\n",
            "100%|██████████| 1000/1000 [00:05<00:00, 182.77it/s]\n",
            "100%|██████████| 1000/1000 [00:05<00:00, 175.71it/s]\n"
          ]
        }
      ]
    },
    {
      "cell_type": "markdown",
      "source": [
        "# Preparing the dataset for training"
      ],
      "metadata": {
        "id": "_eqGsTj1MZrz"
      }
    },
    {
      "cell_type": "code",
      "source": [
        "!pwd"
      ],
      "metadata": {
        "colab": {
          "base_uri": "https://localhost:8080/"
        },
        "id": "4Q68lN1ZNkVu",
        "outputId": "e741a081-748d-4a44-da11-fe01b873fdaf"
      },
      "execution_count": null,
      "outputs": [
        {
          "output_type": "stream",
          "name": "stdout",
          "text": [
            "/content/drive/MyDrive/Projects/BDD10K\n"
          ]
        }
      ]
    },
    {
      "cell_type": "code",
      "source": [
        "yaml_text = \"\"\"train: ../train\n",
        "val: ../valid\n",
        "\n",
        "nc: 1\n",
        "names: ['Car']\"\"\""
      ],
      "metadata": {
        "id": "dYz5TRTIMxtS"
      },
      "execution_count": null,
      "outputs": []
    },
    {
      "cell_type": "code",
      "source": [
        "with open(\"data.yaml\", 'w') as f:\n",
        "    f.write(yaml_text)\n",
        "%cat data.yaml"
      ],
      "metadata": {
        "colab": {
          "base_uri": "https://localhost:8080/"
        },
        "id": "my1NWz54M7_7",
        "outputId": "38b66637-2360-4a9d-b088-3133302357a6"
      },
      "execution_count": null,
      "outputs": [
        {
          "output_type": "stream",
          "name": "stdout",
          "text": [
            "train: ../train\n",
            "val: ../valid\n",
            "\n",
            "nc: 1\n",
            "names: ['Car']"
          ]
        }
      ]
    },
    {
      "cell_type": "code",
      "source": [
        "# check the assigned GPU type\n",
        "!nvidia-smi"
      ],
      "metadata": {
        "colab": {
          "base_uri": "https://localhost:8080/"
        },
        "id": "2xuB3Wj1NB0J",
        "outputId": "7ea6d99e-3519-402c-c329-c22a0754fc3e"
      },
      "execution_count": null,
      "outputs": [
        {
          "output_type": "stream",
          "name": "stdout",
          "text": [
            "Fri Nov 11 10:59:54 2022       \n",
            "+-----------------------------------------------------------------------------+\n",
            "| NVIDIA-SMI 460.32.03    Driver Version: 460.32.03    CUDA Version: 11.2     |\n",
            "|-------------------------------+----------------------+----------------------+\n",
            "| GPU  Name        Persistence-M| Bus-Id        Disp.A | Volatile Uncorr. ECC |\n",
            "| Fan  Temp  Perf  Pwr:Usage/Cap|         Memory-Usage | GPU-Util  Compute M. |\n",
            "|                               |                      |               MIG M. |\n",
            "|===============================+======================+======================|\n",
            "|   0  Tesla T4            Off  | 00000000:00:04.0 Off |                    0 |\n",
            "| N/A   39C    P8     9W /  70W |      0MiB / 15109MiB |      0%      Default |\n",
            "|                               |                      |                  N/A |\n",
            "+-------------------------------+----------------------+----------------------+\n",
            "                                                                               \n",
            "+-----------------------------------------------------------------------------+\n",
            "| Processes:                                                                  |\n",
            "|  GPU   GI   CI        PID   Type   Process name                  GPU Memory |\n",
            "|        ID   ID                                                   Usage      |\n",
            "|=============================================================================|\n",
            "|  No running processes found                                                 |\n",
            "+-----------------------------------------------------------------------------+\n"
          ]
        }
      ]
    },
    {
      "cell_type": "code",
      "source": [
        "#YOLO \n",
        "# !git clone https://github.com/ultralytics/yolov5  && cd yolov5 && pip install -r requirements.txt\n"
      ],
      "metadata": {
        "id": "6ocQaIlmNINZ"
      },
      "execution_count": null,
      "outputs": []
    },
    {
      "cell_type": "code",
      "source": [
        "!python ./yolov5/train.py --img 512 --batch 16 --epochs 100 --workers 2 --data data.yaml --cfg \"./yolov5/models/yolov5s.yaml\" --name yolov5x_car --cache\n"
      ],
      "metadata": {
        "colab": {
          "base_uri": "https://localhost:8080/"
        },
        "id": "VpbUq8zbNLOo",
        "outputId": "97379664-be3a-44c0-a54c-f3173d1391b2"
      },
      "execution_count": null,
      "outputs": [
        {
          "output_type": "stream",
          "name": "stdout",
          "text": [
            "\u001b[34m\u001b[1mtrain: \u001b[0mweights=yolov5/yolov5s.pt, cfg=./yolov5/models/yolov5s.yaml, data=data.yaml, hyp=yolov5/data/hyps/hyp.scratch-low.yaml, epochs=100, batch_size=16, imgsz=512, rect=False, resume=False, nosave=False, noval=False, noautoanchor=False, noplots=False, evolve=None, bucket=, cache=ram, image_weights=False, device=, multi_scale=False, single_cls=False, optimizer=SGD, sync_bn=False, workers=2, project=yolov5/runs/train, name=yolov5x_car, exist_ok=False, quad=False, cos_lr=False, label_smoothing=0.0, patience=100, freeze=[0], save_period=-1, seed=0, local_rank=-1, entity=None, upload_dataset=False, bbox_interval=-1, artifact_alias=latest\n",
            "\u001b[34m\u001b[1mgithub: \u001b[0mup to date with https://github.com/ultralytics/yolov5 ✅\n",
            "YOLOv5 🚀 v6.2-237-g55e9516 Python-3.7.15 torch-1.12.1+cu113 CUDA:0 (Tesla T4, 15110MiB)\n",
            "\n",
            "\u001b[34m\u001b[1mhyperparameters: \u001b[0mlr0=0.01, lrf=0.01, momentum=0.937, weight_decay=0.0005, warmup_epochs=3.0, warmup_momentum=0.8, warmup_bias_lr=0.1, box=0.05, cls=0.5, cls_pw=1.0, obj=1.0, obj_pw=1.0, iou_t=0.2, anchor_t=4.0, fl_gamma=0.0, hsv_h=0.015, hsv_s=0.7, hsv_v=0.4, degrees=0.0, translate=0.1, scale=0.5, shear=0.0, perspective=0.0, flipud=0.0, fliplr=0.5, mosaic=1.0, mixup=0.0, copy_paste=0.0\n",
            "\u001b[34m\u001b[1mClearML: \u001b[0mrun 'pip install clearml' to automatically track, visualize and remotely train YOLOv5 🚀 in ClearML\n",
            "\u001b[34m\u001b[1mComet: \u001b[0mrun 'pip install comet_ml' to automatically track and visualize YOLOv5 🚀 runs in Comet\n",
            "\u001b[34m\u001b[1mTensorBoard: \u001b[0mStart with 'tensorboard --logdir yolov5/runs/train', view at http://localhost:6006/\n",
            "Downloading https://ultralytics.com/assets/Arial.ttf to /root/.config/Ultralytics/Arial.ttf...\n",
            "100% 755k/755k [00:00<00:00, 122MB/s]\n",
            "Downloading https://github.com/ultralytics/yolov5/releases/download/v6.2/yolov5s.pt to yolov5/yolov5s.pt...\n",
            "100% 14.1M/14.1M [00:00<00:00, 169MB/s]\n",
            "\n",
            "Overriding model.yaml nc=80 with nc=1\n",
            "\n",
            "                 from  n    params  module                                  arguments                     \n",
            "  0                -1  1      3520  models.common.Conv                      [3, 32, 6, 2, 2]              \n",
            "  1                -1  1     18560  models.common.Conv                      [32, 64, 3, 2]                \n",
            "  2                -1  1     18816  models.common.C3                        [64, 64, 1]                   \n",
            "  3                -1  1     73984  models.common.Conv                      [64, 128, 3, 2]               \n",
            "  4                -1  2    115712  models.common.C3                        [128, 128, 2]                 \n",
            "  5                -1  1    295424  models.common.Conv                      [128, 256, 3, 2]              \n",
            "  6                -1  3    625152  models.common.C3                        [256, 256, 3]                 \n",
            "  7                -1  1   1180672  models.common.Conv                      [256, 512, 3, 2]              \n",
            "  8                -1  1   1182720  models.common.C3                        [512, 512, 1]                 \n",
            "  9                -1  1    656896  models.common.SPPF                      [512, 512, 5]                 \n",
            " 10                -1  1    131584  models.common.Conv                      [512, 256, 1, 1]              \n",
            " 11                -1  1         0  torch.nn.modules.upsampling.Upsample    [None, 2, 'nearest']          \n",
            " 12           [-1, 6]  1         0  models.common.Concat                    [1]                           \n",
            " 13                -1  1    361984  models.common.C3                        [512, 256, 1, False]          \n",
            " 14                -1  1     33024  models.common.Conv                      [256, 128, 1, 1]              \n",
            " 15                -1  1         0  torch.nn.modules.upsampling.Upsample    [None, 2, 'nearest']          \n",
            " 16           [-1, 4]  1         0  models.common.Concat                    [1]                           \n",
            " 17                -1  1     90880  models.common.C3                        [256, 128, 1, False]          \n",
            " 18                -1  1    147712  models.common.Conv                      [128, 128, 3, 2]              \n",
            " 19          [-1, 14]  1         0  models.common.Concat                    [1]                           \n",
            " 20                -1  1    296448  models.common.C3                        [256, 256, 1, False]          \n",
            " 21                -1  1    590336  models.common.Conv                      [256, 256, 3, 2]              \n",
            " 22          [-1, 10]  1         0  models.common.Concat                    [1]                           \n",
            " 23                -1  1   1182720  models.common.C3                        [512, 512, 1, False]          \n",
            " 24      [17, 20, 23]  1     16182  models.yolo.Detect                      [1, [[10, 13, 16, 30, 33, 23], [30, 61, 62, 45, 59, 119], [116, 90, 156, 198, 373, 326]], [128, 256, 512]]\n",
            "YOLOv5s summary: 214 layers, 7022326 parameters, 7022326 gradients, 15.9 GFLOPs\n",
            "\n",
            "Transferred 342/349 items from yolov5/yolov5s.pt\n",
            "\u001b[34m\u001b[1mAMP: \u001b[0mchecks passed ✅\n",
            "\u001b[34m\u001b[1moptimizer:\u001b[0m SGD(lr=0.01) with parameter groups 57 weight(decay=0.0), 60 weight(decay=0.0005), 60 bias\n",
            "\u001b[34m\u001b[1malbumentations: \u001b[0mBlur(p=0.01, blur_limit=(3, 7)), MedianBlur(p=0.01, blur_limit=(3, 7)), ToGray(p=0.01), CLAHE(p=0.01, clip_limit=(1, 4.0), tile_grid_size=(8, 8))\n",
            "\u001b[34m\u001b[1mtrain: \u001b[0mScanning '/content/drive/MyDrive/Projects/BDD10K/train/labels' images and labels...8108 found, 892 missing, 105 empty, 0 corrupt: 100% 9000/9000 [00:33<00:00, 269.25it/s]\n",
            "\u001b[34m\u001b[1mtrain: \u001b[0mNew cache created: /content/drive/MyDrive/Projects/BDD10K/train/labels.cache\n",
            "\u001b[34m\u001b[1mtrain: \u001b[0mCaching images (3.7GB ram): 100% 9000/9000 [01:42<00:00, 88.07it/s]\n",
            "Traceback (most recent call last):\n",
            "  File \"./yolov5/train.py\", line 630, in <module>\n",
            "    main(opt)\n",
            "  File \"./yolov5/train.py\", line 524, in main\n",
            "    train(opt.hyp, opt, device, callbacks)\n",
            "  File \"./yolov5/train.py\", line 202, in train\n",
            "    assert mlc < nc, f'Label class {mlc} exceeds nc={nc} in {data}. Possible class labels are 0-{nc - 1}'\n",
            "AssertionError: Label class 2 exceeds nc=1 in data.yaml. Possible class labels are 0-0\n"
          ]
        }
      ]
    },
    {
      "cell_type": "code",
      "source": [],
      "metadata": {
        "id": "T3GgB53uN7ov"
      },
      "execution_count": null,
      "outputs": []
    }
  ]
}